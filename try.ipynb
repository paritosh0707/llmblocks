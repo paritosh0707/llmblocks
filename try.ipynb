{
 "cells": [
  {
   "cell_type": "code",
   "execution_count": 1,
   "id": "1f1b0592",
   "metadata": {},
   "outputs": [
    {
     "name": "stdout",
     "output_type": "stream",
     "text": [
      "Hello, World!\n"
     ]
    }
   ],
   "source": [
    "print(\"Hello, World!\")"
   ]
  },
  {
   "cell_type": "code",
   "execution_count": null,
   "id": "f526af1d",
   "metadata": {},
   "outputs": [
    {
     "name": "stderr",
     "output_type": "stream",
     "text": [
      "/opt/anaconda3/envs/llmblocks/lib/python3.13/site-packages/tqdm/auto.py:21: TqdmWarning: IProgress not found. Please update jupyter and ipywidgets. See https://ipywidgets.readthedocs.io/en/stable/user_install.html\n",
      "  from .autonotebook import tqdm as notebook_tqdm\n"
     ]
    },
    {
     "data": {
      "text/plain": [
       "'2019 schedule? Like which days are you going to be in which city? Thank you very much. We really need to know it as soon as possible.\\n\\nWhen you bought the ticket you had to pick a day. If you picked a specific date, that is the day that you will be visiting.\\n\\nOn Wednesday we will announce the exact schedule for each city. We will be sending out an email to all ticket buyers. We will also make an announcement on Facebook and Twitter.\\n\\nBest regards,\\nThe Management\\n\\nHello,\\nI saw on the website that you can pay for a ticket on Wednesday. My question is, if I pay for a ticket, will I be able to choose what day I want to come, or what day I will be able to come on?\\nThanks!\\n\\nIf you purchase a ticket on Wednesday, you will be able to visit on Friday or Saturday.\\n\\nBest regards,\\nThe Management\\n\\nHi there,\\nWhat is the dress code for the event? I see you are not allowing anyone under the age of 18. What about under 16? I am looking to bring my 16 year old daughter. She loves your show. Thanks for your time.\\nShawn\\n\\nYou will be able to see your show from Wednesday 20th of September until Saturday 22nd of September. We are very sorry but we are not going to announce the schedule any sooner than that.\\n\\nBest regards,\\nThe Management\\n\\nHi,\\nWhat is the dress code for the event?\\nThanks\\n\\nThere is no dress code.\\n\\nBest regards,\\nThe Management\\n\\nWe are going to be at the Foret de Saint Germain. We are very sorry but we are not going to announce the exact schedule for each day any sooner than Wednesday, 20th of September. You will be able to visit us from Wednesday 20th of September until Saturday 22nd of September.\\n\\nBest regards,\\nThe Management\\n\\nDear Sir/Madam,\\nPlease can you tell me what the status is of the event in Paris. I am in Paris until 16th Sept and will be flying home on the 16th so would like to know if the event is still happening. If so, what is the schedule and when are you going to announce it? I am interested in the film and have bought my tickets for the show.\\nThanks\\n\\nThe event is still happening. We are not going to announce the schedule any sooner than Wednesday 20th of September. You will be able to visit from Wednesday 20'"
      ]
     },
     "execution_count": 1,
     "metadata": {},
     "output_type": "execute_result"
    }
   ],
   "source": [
    "from dotenv import load_dotenv\n",
    "load_dotenv()\n",
    "\n",
    "from langchain_huggingface.llms.huggingface_endpoint import HuggingFaceEndpoint\n",
    "\n",
    "llm = HuggingFaceEndpoint(\n",
    "    repo_id=\"mistralai/Mistral-Nemo-Base-2407\",\n",
    "    provider=\"featherless-ai\"\n",
    ") \n",
    "\n",
    "llm.invoke(\"Can you please let us know more details about your \")\n"
   ]
  }
 ],
 "metadata": {
  "kernelspec": {
   "display_name": "llmblocks",
   "language": "python",
   "name": "python3"
  },
  "language_info": {
   "codemirror_mode": {
    "name": "ipython",
    "version": 3
   },
   "file_extension": ".py",
   "mimetype": "text/x-python",
   "name": "python",
   "nbconvert_exporter": "python",
   "pygments_lexer": "ipython3",
   "version": "3.13.5"
  }
 },
 "nbformat": 4,
 "nbformat_minor": 5
}
